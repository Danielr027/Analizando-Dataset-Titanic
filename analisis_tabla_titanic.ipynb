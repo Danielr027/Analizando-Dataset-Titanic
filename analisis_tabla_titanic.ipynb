{
 "cells": [
  {
   "cell_type": "markdown",
   "metadata": {},
   "source": [
    "## **Analisis del Dataset del Titanic**\n",
    "\n",
    "En este Jupyter Notebook se extraerán y analizarán los datos contenidos en el dataset del archivo csv de _Titanic_, mostrando las conclusiones y hallazgos obtenidos durante el proceso de forma gráfica y legible."
   ]
  },
  {
   "cell_type": "code",
   "execution_count": 1,
   "metadata": {},
   "outputs": [],
   "source": [
    "# Importamos las librerías que vamos a utilizar\n",
    "import matplotlib.pyplot as plt\n",
    "import numpy as np\n",
    "import pandas as pd\n",
    "import seaborn as sns"
   ]
  },
  {
   "cell_type": "code",
   "execution_count": 2,
   "metadata": {},
   "outputs": [],
   "source": [
    "df = pd.read_csv(\"titanic_raw.csv\") #Importamos el archivo csv"
   ]
  },
  {
   "cell_type": "code",
   "execution_count": 3,
   "metadata": {},
   "outputs": [
    {
     "data": {
      "text/html": [
       "<div>\n",
       "<style scoped>\n",
       "    .dataframe tbody tr th:only-of-type {\n",
       "        vertical-align: middle;\n",
       "    }\n",
       "\n",
       "    .dataframe tbody tr th {\n",
       "        vertical-align: top;\n",
       "    }\n",
       "\n",
       "    .dataframe thead th {\n",
       "        text-align: right;\n",
       "    }\n",
       "</style>\n",
       "<table border=\"1\" class=\"dataframe\">\n",
       "  <thead>\n",
       "    <tr style=\"text-align: right;\">\n",
       "      <th></th>\n",
       "      <th>PassengerId</th>\n",
       "      <th>Survived</th>\n",
       "      <th>Pclass</th>\n",
       "      <th>Name</th>\n",
       "      <th>Sex</th>\n",
       "      <th>Age</th>\n",
       "      <th>SibSp</th>\n",
       "      <th>Parch</th>\n",
       "      <th>Ticket</th>\n",
       "      <th>Fare</th>\n",
       "      <th>Cabin</th>\n",
       "      <th>Embarked</th>\n",
       "    </tr>\n",
       "  </thead>\n",
       "  <tbody>\n",
       "    <tr>\n",
       "      <th>0</th>\n",
       "      <td>1</td>\n",
       "      <td>0</td>\n",
       "      <td>3</td>\n",
       "      <td>Braund, Mr. Owen Harris</td>\n",
       "      <td>male</td>\n",
       "      <td>22.0</td>\n",
       "      <td>1</td>\n",
       "      <td>0</td>\n",
       "      <td>A/5 21171</td>\n",
       "      <td>7.2500</td>\n",
       "      <td>NaN</td>\n",
       "      <td>S</td>\n",
       "    </tr>\n",
       "    <tr>\n",
       "      <th>1</th>\n",
       "      <td>2</td>\n",
       "      <td>1</td>\n",
       "      <td>1</td>\n",
       "      <td>Cumings, Mrs. John Bradley (Florence Briggs Th...</td>\n",
       "      <td>female</td>\n",
       "      <td>38.0</td>\n",
       "      <td>1</td>\n",
       "      <td>0</td>\n",
       "      <td>PC 17599</td>\n",
       "      <td>71.2833</td>\n",
       "      <td>C85</td>\n",
       "      <td>C</td>\n",
       "    </tr>\n",
       "    <tr>\n",
       "      <th>2</th>\n",
       "      <td>3</td>\n",
       "      <td>1</td>\n",
       "      <td>3</td>\n",
       "      <td>Heikkinen, Miss. Laina</td>\n",
       "      <td>female</td>\n",
       "      <td>26.0</td>\n",
       "      <td>0</td>\n",
       "      <td>0</td>\n",
       "      <td>STON/O2. 3101282</td>\n",
       "      <td>7.9250</td>\n",
       "      <td>NaN</td>\n",
       "      <td>S</td>\n",
       "    </tr>\n",
       "    <tr>\n",
       "      <th>3</th>\n",
       "      <td>4</td>\n",
       "      <td>1</td>\n",
       "      <td>1</td>\n",
       "      <td>Futrelle, Mrs. Jacques Heath (Lily May Peel)</td>\n",
       "      <td>female</td>\n",
       "      <td>35.0</td>\n",
       "      <td>1</td>\n",
       "      <td>0</td>\n",
       "      <td>113803</td>\n",
       "      <td>53.1000</td>\n",
       "      <td>C123</td>\n",
       "      <td>S</td>\n",
       "    </tr>\n",
       "    <tr>\n",
       "      <th>4</th>\n",
       "      <td>5</td>\n",
       "      <td>0</td>\n",
       "      <td>3</td>\n",
       "      <td>Allen, Mr. William Henry</td>\n",
       "      <td>male</td>\n",
       "      <td>35.0</td>\n",
       "      <td>0</td>\n",
       "      <td>0</td>\n",
       "      <td>373450</td>\n",
       "      <td>8.0500</td>\n",
       "      <td>NaN</td>\n",
       "      <td>S</td>\n",
       "    </tr>\n",
       "  </tbody>\n",
       "</table>\n",
       "</div>"
      ],
      "text/plain": [
       "   PassengerId  Survived  Pclass  \\\n",
       "0            1         0       3   \n",
       "1            2         1       1   \n",
       "2            3         1       3   \n",
       "3            4         1       1   \n",
       "4            5         0       3   \n",
       "\n",
       "                                                Name     Sex   Age  SibSp  \\\n",
       "0                            Braund, Mr. Owen Harris    male  22.0      1   \n",
       "1  Cumings, Mrs. John Bradley (Florence Briggs Th...  female  38.0      1   \n",
       "2                             Heikkinen, Miss. Laina  female  26.0      0   \n",
       "3       Futrelle, Mrs. Jacques Heath (Lily May Peel)  female  35.0      1   \n",
       "4                           Allen, Mr. William Henry    male  35.0      0   \n",
       "\n",
       "   Parch            Ticket     Fare Cabin Embarked  \n",
       "0      0         A/5 21171   7.2500   NaN        S  \n",
       "1      0          PC 17599  71.2833   C85        C  \n",
       "2      0  STON/O2. 3101282   7.9250   NaN        S  \n",
       "3      0            113803  53.1000  C123        S  \n",
       "4      0            373450   8.0500   NaN        S  "
      ]
     },
     "execution_count": 3,
     "metadata": {},
     "output_type": "execute_result"
    }
   ],
   "source": [
    "df.head(5) # Extraemos las 5 primeras filas del dataset para explorarlo"
   ]
  },
  {
   "cell_type": "code",
   "execution_count": 4,
   "metadata": {},
   "outputs": [
    {
     "data": {
      "text/html": [
       "<div>\n",
       "<style scoped>\n",
       "    .dataframe tbody tr th:only-of-type {\n",
       "        vertical-align: middle;\n",
       "    }\n",
       "\n",
       "    .dataframe tbody tr th {\n",
       "        vertical-align: top;\n",
       "    }\n",
       "\n",
       "    .dataframe thead th {\n",
       "        text-align: right;\n",
       "    }\n",
       "</style>\n",
       "<table border=\"1\" class=\"dataframe\">\n",
       "  <thead>\n",
       "    <tr style=\"text-align: right;\">\n",
       "      <th></th>\n",
       "      <th>Survived</th>\n",
       "      <th>Pclass</th>\n",
       "      <th>Name</th>\n",
       "      <th>Sex</th>\n",
       "      <th>Age</th>\n",
       "      <th>SibSp</th>\n",
       "      <th>Parch</th>\n",
       "      <th>Ticket</th>\n",
       "      <th>Fare</th>\n",
       "      <th>Cabin</th>\n",
       "      <th>Embarked</th>\n",
       "    </tr>\n",
       "    <tr>\n",
       "      <th>PassengerId</th>\n",
       "      <th></th>\n",
       "      <th></th>\n",
       "      <th></th>\n",
       "      <th></th>\n",
       "      <th></th>\n",
       "      <th></th>\n",
       "      <th></th>\n",
       "      <th></th>\n",
       "      <th></th>\n",
       "      <th></th>\n",
       "      <th></th>\n",
       "    </tr>\n",
       "  </thead>\n",
       "  <tbody>\n",
       "    <tr>\n",
       "      <th>1</th>\n",
       "      <td>0</td>\n",
       "      <td>3</td>\n",
       "      <td>Braund, Mr. Owen Harris</td>\n",
       "      <td>male</td>\n",
       "      <td>22.0</td>\n",
       "      <td>1</td>\n",
       "      <td>0</td>\n",
       "      <td>A/5 21171</td>\n",
       "      <td>7.2500</td>\n",
       "      <td>NaN</td>\n",
       "      <td>S</td>\n",
       "    </tr>\n",
       "    <tr>\n",
       "      <th>2</th>\n",
       "      <td>1</td>\n",
       "      <td>1</td>\n",
       "      <td>Cumings, Mrs. John Bradley (Florence Briggs Th...</td>\n",
       "      <td>female</td>\n",
       "      <td>38.0</td>\n",
       "      <td>1</td>\n",
       "      <td>0</td>\n",
       "      <td>PC 17599</td>\n",
       "      <td>71.2833</td>\n",
       "      <td>C85</td>\n",
       "      <td>C</td>\n",
       "    </tr>\n",
       "    <tr>\n",
       "      <th>3</th>\n",
       "      <td>1</td>\n",
       "      <td>3</td>\n",
       "      <td>Heikkinen, Miss. Laina</td>\n",
       "      <td>female</td>\n",
       "      <td>26.0</td>\n",
       "      <td>0</td>\n",
       "      <td>0</td>\n",
       "      <td>STON/O2. 3101282</td>\n",
       "      <td>7.9250</td>\n",
       "      <td>NaN</td>\n",
       "      <td>S</td>\n",
       "    </tr>\n",
       "  </tbody>\n",
       "</table>\n",
       "</div>"
      ],
      "text/plain": [
       "             Survived  Pclass  \\\n",
       "PassengerId                     \n",
       "1                   0       3   \n",
       "2                   1       1   \n",
       "3                   1       3   \n",
       "\n",
       "                                                          Name     Sex   Age  \\\n",
       "PassengerId                                                                    \n",
       "1                                      Braund, Mr. Owen Harris    male  22.0   \n",
       "2            Cumings, Mrs. John Bradley (Florence Briggs Th...  female  38.0   \n",
       "3                                       Heikkinen, Miss. Laina  female  26.0   \n",
       "\n",
       "             SibSp  Parch            Ticket     Fare Cabin Embarked  \n",
       "PassengerId                                                          \n",
       "1                1      0         A/5 21171   7.2500   NaN        S  \n",
       "2                1      0          PC 17599  71.2833   C85        C  \n",
       "3                0      0  STON/O2. 3101282   7.9250   NaN        S  "
      ]
     },
     "execution_count": 4,
     "metadata": {},
     "output_type": "execute_result"
    }
   ],
   "source": [
    "df.set_index(\"PassengerId\", inplace=True) # Establezco el PassengerId como index ya que es un identificador único\n",
    "df.head(3)"
   ]
  },
  {
   "cell_type": "code",
   "execution_count": 5,
   "metadata": {},
   "outputs": [
    {
     "data": {
      "text/plain": [
       "Index(['Survived', 'Pclass', 'Name', 'Sex', 'Age', 'SibSp', 'Parch', 'Ticket',\n",
       "       'Fare', 'Cabin', 'Embarked'],\n",
       "      dtype='object')"
      ]
     },
     "execution_count": 5,
     "metadata": {},
     "output_type": "execute_result"
    }
   ],
   "source": [
    "df.columns # Obtengo el nombre de las columnas (al hacerlo un índice, no aparece PassengerId)"
   ]
  },
  {
   "cell_type": "code",
   "execution_count": 6,
   "metadata": {},
   "outputs": [
    {
     "data": {
      "text/plain": [
       "Survived    False\n",
       "Pclass      False\n",
       "Name        False\n",
       "Sex         False\n",
       "Age          True\n",
       "SibSp       False\n",
       "Parch       False\n",
       "Ticket      False\n",
       "Fare        False\n",
       "Cabin        True\n",
       "Embarked     True\n",
       "dtype: bool"
      ]
     },
     "execution_count": 6,
     "metadata": {},
     "output_type": "execute_result"
    }
   ],
   "source": [
    "df.isnull().any() # Ver si hay y en caso de haber, qué columnas tinen valores nulos"
   ]
  },
  {
   "cell_type": "code",
   "execution_count": 7,
   "metadata": {},
   "outputs": [
    {
     "data": {
      "text/plain": [
       "Survived      0\n",
       "Pclass        0\n",
       "Name          0\n",
       "Sex           0\n",
       "Age         177\n",
       "SibSp         0\n",
       "Parch         0\n",
       "Ticket        0\n",
       "Fare          0\n",
       "Cabin       687\n",
       "Embarked      2\n",
       "dtype: int64"
      ]
     },
     "execution_count": 7,
     "metadata": {},
     "output_type": "execute_result"
    }
   ],
   "source": [
    "df.isnull().sum()"
   ]
  },
  {
   "cell_type": "markdown",
   "metadata": {},
   "source": [
    "Vemos que las columnas Age, Cabin y Embarked contienen valores nulos."
   ]
  },
  {
   "cell_type": "code",
   "execution_count": 8,
   "metadata": {},
   "outputs": [
    {
     "name": "stdout",
     "output_type": "stream",
     "text": [
      "cantidad_total_personas = 891 \n",
      "\n",
      "Número de personas divididas por género: \n",
      "Sex\n",
      "male      577\n",
      "female    314\n",
      "Name: count, dtype: int64 \n",
      "\n",
      "El 64.76% eran Hombres y el 35.24% eran Mujeres\n"
     ]
    }
   ],
   "source": [
    "cantidad_total_personas = df.Sex.count()\n",
    "cantidad_total_hombres = df.Sex.loc[df.Sex == 'male'].count()\n",
    "cantidad_total_mujeres = df.Sex.loc[df.Sex == 'female'].count()\n",
    "\n",
    "print(f\"{cantidad_total_personas = }\", \"\\n\")\n",
    "\n",
    "print(f\"Número de personas divididas por género: \\n{df.Sex.value_counts()}\", \"\\n\")\n",
    "\n",
    "print(f\"El {round(cantidad_total_hombres / cantidad_total_personas * 100, 2)}% eran Hombres y el {round(cantidad_total_mujeres / cantidad_total_personas * 100, 2)}% eran Mujeres\")"
   ]
  },
  {
   "cell_type": "code",
   "execution_count": 55,
   "metadata": {},
   "outputs": [
    {
     "data": {
      "image/png": "[encoded data removed]",
      "text/plain": [
       "<Figure size 640x480 with 1 Axes>"
      ]
     },
     "metadata": {},
     "output_type": "display_data"
    }
   ],
   "source": [
    "plt.pie([cantidad_total_mujeres, cantidad_total_hombres],\n",
    "        labels=[\"Mujeres\", \"Hombres\"],\n",
    "        colors=[\"#ff9999\",\"#66b3ff\"],\n",
    "        startangle=90,\n",
    "        shadow=True,\n",
    "        explode=(0.1, 0))\n",
    "\n",
    "plt.title(\"Distribución por Género\")\n",
    "plt.axis('equal')\n",
    "plt.show()"
   ]
  },
  {
   "cell_type": "code",
   "execution_count": 10,
   "metadata": {},
   "outputs": [
    {
     "name": "stdout",
     "output_type": "stream",
     "text": [
      "De 891 personas, murieron 549 personas y sobrevivieron 342 personas.\n"
     ]
    }
   ],
   "source": [
    "df.Survived.value_counts()\n",
    "\n",
    "personas_murieron = df.Survived.value_counts()[0]\n",
    "personas_sobrevivieron = df.Survived.value_counts()[1]\n",
    "\n",
    "print(f\"De {df.Survived.count()} personas, murieron {personas_murieron} personas y sobrevivieron {personas_sobrevivieron} personas.\")"
   ]
  },
  {
   "cell_type": "code",
   "execution_count": 11,
   "metadata": {},
   "outputs": [
    {
     "name": "stdout",
     "output_type": "stream",
     "text": [
      "Sobrevivieron 233 mujeres.\n",
      "Murieron 81 mujeres.\n",
      "\n",
      "Sobrevivieron 109 hombres.\n",
      "Murieron 468 hombres.\n",
      "\n",
      "El 38.38% de las personas sobrevivieron.\n",
      "\n",
      "El 68.13% de los que sobrevivieron eran mujeres.\n",
      "El 85.25% de los que murieron eran hombres.\n"
     ]
    }
   ],
   "source": [
    "mujeres_sobrevivieron = df.Survived.loc[(df.Sex == 'female') & (df.Survived == 1)].count()\n",
    "mujeres_murieron = df.Survived.loc[(df.Sex == 'female') & (df.Survived == 0)].count()\n",
    "hombres_sobrevivieron = df.Survived.loc[(df.Sex == 'male') & (df.Survived == 1)].count()\n",
    "hombres_murieron = df.Survived.loc[(df.Sex == 'male') & (df.Survived == 0)].count()\n",
    "\n",
    "print(f\"Sobrevivieron {mujeres_sobrevivieron} mujeres.\") # Nº de mujeres que sobrevivieron\n",
    "print(f\"Murieron {mujeres_murieron} mujeres.\") # Nº de mujeres que murieron\n",
    "print()\n",
    "print(f\"Sobrevivieron {hombres_sobrevivieron} hombres.\") # Nº de hombres que sobrevivieron\n",
    "print(f\"Murieron {hombres_murieron} hombres.\") # Nº de hombres que murieron\n",
    "print()\n",
    "print(f\"El {round((hombres_sobrevivieron + mujeres_sobrevivieron) / cantidad_total_personas * 100, 2)}% de las personas sobrevivieron.\")\n",
    "print()\n",
    "print(f\"El {round(mujeres_sobrevivieron / df.Survived.loc[df.Survived == 1].count() * 100, 2)}% de los que sobrevivieron eran mujeres.\")\n",
    "print(f\"El {round(hombres_murieron / df.Survived.loc[df.Survived == 0].count() * 100, 2)}% de los que murieron eran hombres.\")"
   ]
  },
  {
   "cell_type": "code",
   "execution_count": 12,
   "metadata": {},
   "outputs": [
    {
     "name": "stdout",
     "output_type": "stream",
     "text": [
      "\n",
      "Habían 77 niños.\n",
      "El 8.64% de todas las personas (891) eran niños.\n",
      "El 58.44% de los niñ@s sobrevivieron, teniendo en cuenta que el 38.38% de personas sobrevivieron.\n",
      "\n",
      "El 31.17% de los niños que sobrevivieron eran chicas.\n",
      "El 27.27% de los niños que sobrevivieron eran chicos.\n",
      "\n",
      "El 18.18% de los niños que muerieron eran chicas.\n",
      "El 23.38% de los niños que muerieron eran chicos.\n"
     ]
    }
   ],
   "source": [
    "# Considerando adultos a los mayores de 14 años.\n",
    "total_niños = df.Age.loc[df.Age <= 14].count()\n",
    "\n",
    "# print(f\"El {}% de niños independientemente del género sobrevivieron\")\n",
    "\n",
    "print()\n",
    "\n",
    "print(f\"Habían {total_niños} niños.\")\n",
    "print(f\"El {round(total_niños / cantidad_total_personas * 100, 2)}% de todas las personas ({cantidad_total_personas}) eran niños.\")\n",
    "\n",
    "niños_murieron = df.Age.loc[(df.Age <= 14) & (df.Survived == 0) & (df.Sex == 'male')].count()\n",
    "niños_sobrevivieron = df.Age.loc[(df.Age <= 14) & (df.Survived == 1) & (df.Sex == 'male')].count()\n",
    "niñas_murieron = df.Age.loc[(df.Age <= 14) & (df.Survived == 0) & (df.Sex == 'female')].count()\n",
    "niñas_sobrevivieron = df.Age.loc[(df.Age <= 14) & (df.Survived == 1) & (df.Sex == 'female')].count()\n",
    "\n",
    "print(f\"El {round((niños_sobrevivieron + niñas_sobrevivieron) / total_niños * 100, 2)}% de los niñ@s sobrevivieron, teniendo en cuenta que el {round(personas_sobrevivieron / cantidad_total_personas * 100, 2)}% de personas sobrevivieron.\")\n",
    "print()\n",
    "print(f\"El {round(niñas_sobrevivieron / total_niños * 100, 2)}% de los niños que sobrevivieron eran chicas.\")\n",
    "print(f\"El {round(niños_sobrevivieron / total_niños * 100, 2)}% de los niños que sobrevivieron eran chicos.\")\n",
    "print()\n",
    "print(f\"El {round(niñas_murieron / total_niños * 100, 2)}% de los niños que muerieron eran chicas.\")\n",
    "print(f\"El {round(niños_murieron / total_niños * 100, 2)}% de los niños que muerieron eran chicos.\")"
   ]
  },
  {
   "cell_type": "code",
   "execution_count": null,
   "metadata": {},
   "outputs": [],
   "source": []
  },
  {
   "cell_type": "code",
   "execution_count": 13,
   "metadata": {},
   "outputs": [
    {
     "name": "stdout",
     "output_type": "stream",
     "text": [
      "Embarked\n",
      "S    644\n",
      "C    168\n",
      "Q     77\n",
      "Name: count, dtype: int64\n",
      "Hay 2 de 891 que no sabemos qué clase cogieron.\n",
      "El 72.44% viajaron en clase S.\n",
      "El 18.9% viajaron en clase C.\n",
      "El 8.66% viajaron en clase Q. \n"
     ]
    },
    {
     "name": "stderr",
     "output_type": "stream",
     "text": [
      "C:\\Users\\danie\\AppData\\Local\\Temp\\ipykernel_11156\\3475520502.py:7: FutureWarning: Series.__getitem__ treating keys as positions is deprecated. In a future version, integer keys will always be treated as labels (consistent with DataFrame behavior). To access a value by position, use `ser.iloc[pos]`\n",
      "  print(f\"El {round(df.Embarked.value_counts()[0] / total_personas_embarked * 100, 2)}% viajaron en clase S.\")\n",
      "C:\\Users\\danie\\AppData\\Local\\Temp\\ipykernel_11156\\3475520502.py:8: FutureWarning: Series.__getitem__ treating keys as positions is deprecated. In a future version, integer keys will always be treated as labels (consistent with DataFrame behavior). To access a value by position, use `ser.iloc[pos]`\n",
      "  print(f\"El {round(df.Embarked.value_counts()[1] / total_personas_embarked * 100, 2)}% viajaron en clase C.\")\n",
      "C:\\Users\\danie\\AppData\\Local\\Temp\\ipykernel_11156\\3475520502.py:9: FutureWarning: Series.__getitem__ treating keys as positions is deprecated. In a future version, integer keys will always be treated as labels (consistent with DataFrame behavior). To access a value by position, use `ser.iloc[pos]`\n",
      "  print(f\"El {round(df.Embarked.value_counts()[2] / total_personas_embarked * 100, 2)}% viajaron en clase Q. \")\n"
     ]
    }
   ],
   "source": [
    "total_personas_embarked = df.Embarked.count()\n",
    "\n",
    "print(df.Embarked.value_counts())\n",
    "\n",
    "print(f\"Hay {len(df) - df.Embarked.count()} de {len(df)} que no sabemos qué clase cogieron.\")\n",
    "\n",
    "print(f\"El {round(df.Embarked.value_counts()[0] / total_personas_embarked * 100, 2)}% viajaron en clase S.\")\n",
    "print(f\"El {round(df.Embarked.value_counts()[1] / total_personas_embarked * 100, 2)}% viajaron en clase C.\")\n",
    "print(f\"El {round(df.Embarked.value_counts()[2] / total_personas_embarked * 100, 2)}% viajaron en clase Q. \")"
   ]
  },
  {
   "cell_type": "code",
   "execution_count": null,
   "metadata": {},
   "outputs": [],
   "source": []
  }
 ],
 "metadata": {
  "kernelspec": {
   "display_name": "Python 3",
   "language": "python",
   "name": "python3"
  },
  "language_info": {
   "codemirror_mode": {
    "name": "ipython",
    "version": 3
   },
   "file_extension": ".py",
   "mimetype": "text/x-python",
   "name": "python",
   "nbconvert_exporter": "python",
   "pygments_lexer": "ipython3",
   "version": "3.12.3"
  }
 },
 "nbformat": 4,
 "nbformat_minor": 2
}
